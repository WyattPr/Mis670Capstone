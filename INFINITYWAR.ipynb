{
 "cells": [
  {
   "cell_type": "markdown",
   "metadata": {},
   "source": [
    "# Infinity War Sentiment Analysis"
   ]
  },
  {
   "cell_type": "markdown",
   "metadata": {},
   "source": [
    "## Marvel Studios' Avengers Infinity War is the combination of the last 10 years of movies that the studio has created. Many people are looking forward to this movie for year. "
   ]
  },
  {
   "cell_type": "markdown",
   "metadata": {},
   "source": [
    "## I am curious how the movie is being recieved. I ran a python scrypt to scrape tweets on Thursday the 26th of April right before the movie was release in Manhattan. I want to see if the tweets before the movie are positive and if people think the 10 year build up is worth it with Sentiment analysis of the tweets. "
   ]
  },
  {
   "cell_type": "code",
   "execution_count": null,
   "metadata": {
    "collapsed": true
   },
   "outputs": [],
   "source": [
    "from IPython.display import Image\n",
    "Image(\"data\\Avengers_Infinity_War_Logo.png\")"
   ]
  },
  {
   "cell_type": "markdown",
   "metadata": {},
   "source": [
    "### \"On my honor, as a student, I have neither given nor received unauthorized aid on this academic work.\"\n",
    "\n",
    "#### Wyatt Prall"
   ]
  },
  {
   "cell_type": "code",
   "execution_count": 1,
   "metadata": {},
   "outputs": [
    {
     "name": "stderr",
     "output_type": "stream",
     "text": [
      "C:\\Users\\Wyatt Prall\\Anaconda2\\lib\\site-packages\\gensim\\utils.py:1167: UserWarning: detected Windows; aliasing chunkize to chunkize_serial\n",
      "  warnings.warn(\"detected Windows; aliasing chunkize to chunkize_serial\")\n"
     ]
    }
   ],
   "source": [
    "import nltk\n",
    "from nltk import word_tokenize\n",
    "from nltk.corpus import stopwords\n",
    "from nltk.stem.wordnet import WordNetLemmatizer\n",
    "from nltk.stem.porter import PorterStemmer\n",
    "from gensim.corpora import Dictionary\n",
    "from gensim.models import ldamodel\n",
    "from gensim.models.coherencemodel import CoherenceModel\n",
    "from gensim.models.wrappers import LdaVowpalWabbit, LdaMallet\n",
    "import csv\n",
    "import pandas as pd\n",
    "from collections import Counter\n",
    "# The Packages required to run the Jupiter Notebook\n",
    "import numpy\n",
    "from os import path\n",
    "from IPython.display import Image\n",
    "from wordcloud import WordCloud, STOPWORDS\n",
    "import re\n",
    "import matplotlib.pyplot as plt\n",
    "% matplotlib inline\n",
    "import requests\n",
    "from lxml import html\n",
    "from pattern.en import sentiment"
   ]
  },
  {
   "cell_type": "code",
   "execution_count": 3,
   "metadata": {},
   "outputs": [
    {
     "name": "stdout",
     "output_type": "stream",
     "text": [
      "{\n",
      "    \"quote_count\": 0, \n",
      "    \"contributors\": null, \n",
      "    \"truncated\": false, \n",
      "    \"text\": \"RT @MarvelStudios: It\\u2019s all been leading to this. @Avengers: #InfinityWar is in theaters TONIGHT. Get tickets now: https://t.co/xQsJemiGws\\u2026\", \n",
      "    \"is_quote_status\": false, \n",
      "    \"in_reply_to_status_id\": null, \n",
      "    \"reply_count\": 0, \n",
      "    \"id\": 989567202306256896, \n",
      "    \"favorite_count\": 0, \n",
      "    \"entities\": {\n",
      "        \"user_mentions\": [\n",
      "            {\n",
      "                \"id\": 750751206427860992, \n",
      "                \"indices\": [\n",
      "                    3, \n",
      "                    17\n",
      "                ], \n",
      "                \"id_str\": \"750751206427860992\", \n",
      "                \"screen_name\": \"MarvelStudios\", \n",
      "                \"name\": \"Marvel Studios\"\n",
      "            }, \n",
      "            {\n",
      "                \"id\": 393852070, \n",
      "                \"indices\": [\n",
      "                    50, \n",
      "                    59\n",
      "                ], \n",
      "                \"id_str\": \"393852070\", \n",
      "                \"screen_name\": \"Avengers\", \n",
      "                \"name\": \"The Avengers\"\n",
      "            }\n",
      "        ], \n",
      "        \"symbols\": [], \n",
      "        \"hashtags\": [\n",
      "            {\n",
      "                \"indices\": [\n",
      "                    61, \n",
      "                    73\n",
      "                ], \n",
      "                \"text\": \"InfinityWar\"\n",
      "            }\n",
      "        ], \n",
      "        \"urls\": [\n",
      "            {\n",
      "                \"url\": \"https://t.co/xQsJemiGws\", \n",
      "                \"indices\": [\n",
      "                    115, \n",
      "                    138\n",
      "                ], \n",
      "                \"expanded_url\": \"http://www.fandango.com/infinitywar\", \n",
      "                \"display_url\": \"fandango.com/infinitywar\"\n",
      "            }\n",
      "        ]\n",
      "    }, \n",
      "    \"retweeted\": false, \n",
      "    \"coordinates\": null, \n",
      "    \"timestamp_ms\": \"1524766180956\", \n",
      "    \"source\": \"<a href=\\\"http://twitter.com/download/iphone\\\" rel=\\\"nofollow\\\">Twitter for iPhone</a>\", \n",
      "    \"in_reply_to_screen_name\": null, \n",
      "    \"id_str\": \"989567202306256896\", \n",
      "    \"retweet_count\": 0, \n",
      "    \"in_reply_to_user_id\": null, \n",
      "    \"favorited\": false, \n",
      "    \"retweeted_status\": {\n",
      "        \"quote_count\": 25, \n",
      "        \"contributors\": null, \n",
      "        \"truncated\": true, \n",
      "        \"text\": \"It\\u2019s all been leading to this. @Avengers: #InfinityWar is in theaters TONIGHT. Get tickets now:\\u2026 https://t.co/zlErfvaua0\", \n",
      "        \"is_quote_status\": false, \n",
      "        \"in_reply_to_status_id\": null, \n",
      "        \"reply_count\": 33, \n",
      "        \"id\": 989557222689587200, \n",
      "        \"favorite_count\": 1721, \n",
      "        \"entities\": {\n",
      "            \"user_mentions\": [\n",
      "                {\n",
      "                    \"id\": 393852070, \n",
      "                    \"indices\": [\n",
      "                        31, \n",
      "                        40\n",
      "                    ], \n",
      "                    \"id_str\": \"393852070\", \n",
      "                    \"screen_name\": \"Avengers\", \n",
      "                    \"name\": \"The Avengers\"\n",
      "                }\n",
      "            ], \n",
      "            \"symbols\": [], \n",
      "            \"hashtags\": [\n",
      "                {\n",
      "                    \"indices\": [\n",
      "                        42, \n",
      "                        54\n",
      "                    ], \n",
      "                    \"text\": \"InfinityWar\"\n",
      "                }\n",
      "            ], \n",
      "            \"urls\": [\n",
      "                {\n",
      "                    \"url\": \"https://t.co/zlErfvaua0\", \n",
      "                    \"indices\": [\n",
      "                        97, \n",
      "                        120\n",
      "                    ], \n",
      "                    \"expanded_url\": \"https://twitter.com/i/web/status/989557222689587200\", \n",
      "                    \"display_url\": \"twitter.com/i/web/status/9\\u2026\"\n",
      "                }\n",
      "            ]\n",
      "        }, \n",
      "        \"retweeted\": false, \n",
      "        \"coordinates\": null, \n",
      "        \"source\": \"<a href=\\\"https://studio.twitter.com\\\" rel=\\\"nofollow\\\">Media Studio</a>\", \n",
      "        \"in_reply_to_screen_name\": null, \n",
      "        \"id_str\": \"989557222689587200\", \n",
      "        \"display_text_range\": [\n",
      "            0, \n",
      "            140\n",
      "        ], \n",
      "        \"retweet_count\": 391, \n",
      "        \"in_reply_to_user_id\": null, \n",
      "        \"favorited\": false, \n",
      "        \"user\": {\n",
      "            \"follow_request_sent\": null, \n",
      "            \"profile_use_background_image\": true, \n",
      "            \"default_profile_image\": false, \n",
      "            \"id\": 750751206427860992, \n",
      "            \"default_profile\": true, \n",
      "            \"verified\": true, \n",
      "            \"profile_image_url_https\": \"https://pbs.twimg.com/profile_images/791852580632604672/1BIDSxyC_normal.jpg\", \n",
      "            \"profile_sidebar_fill_color\": \"DDEEF6\", \n",
      "            \"profile_text_color\": \"333333\", \n",
      "            \"followers_count\": 958916, \n",
      "            \"profile_sidebar_border_color\": \"C0DEED\", \n",
      "            \"id_str\": \"750751206427860992\", \n",
      "            \"profile_background_color\": \"F5F8FA\", \n",
      "            \"listed_count\": 2514, \n",
      "            \"profile_background_image_url_https\": \"\", \n",
      "            \"utc_offset\": -25200, \n",
      "            \"statuses_count\": 8967, \n",
      "            \"description\": \"The official Twitter account for Marvel Studios.\", \n",
      "            \"friends_count\": 74, \n",
      "            \"location\": null, \n",
      "            \"profile_link_color\": \"1DA1F2\", \n",
      "            \"profile_image_url\": \"http://pbs.twimg.com/profile_images/791852580632604672/1BIDSxyC_normal.jpg\", \n",
      "            \"following\": null, \n",
      "            \"geo_enabled\": true, \n",
      "            \"profile_banner_url\": \"https://pbs.twimg.com/profile_banners/750751206427860992/1524524872\", \n",
      "            \"profile_background_image_url\": \"\", \n",
      "            \"name\": \"Marvel Studios\", \n",
      "            \"lang\": \"en\", \n",
      "            \"profile_background_tile\": false, \n",
      "            \"favourites_count\": 976, \n",
      "            \"screen_name\": \"MarvelStudios\", \n",
      "            \"notifications\": null, \n",
      "            \"url\": \"http://fandango.com/infinitywar\", \n",
      "            \"created_at\": \"Wed Jul 06 18:00:10 +0000 2016\", \n",
      "            \"contributors_enabled\": false, \n",
      "            \"time_zone\": \"Pacific Time (US & Canada)\", \n",
      "            \"protected\": false, \n",
      "            \"translator_type\": \"none\", \n",
      "            \"is_translator\": false\n",
      "        }, \n",
      "        \"geo\": null, \n",
      "        \"in_reply_to_user_id_str\": null, \n",
      "        \"possibly_sensitive\": false, \n",
      "        \"lang\": \"en\", \n",
      "        \"extended_tweet\": {\n",
      "            \"display_text_range\": [\n",
      "                0, \n",
      "                119\n",
      "            ], \n",
      "            \"entities\": {\n",
      "                \"user_mentions\": [\n",
      "                    {\n",
      "                        \"id\": 393852070, \n",
      "                        \"indices\": [\n",
      "                            31, \n",
      "                            40\n",
      "                        ], \n",
      "                        \"id_str\": \"393852070\", \n",
      "                        \"screen_name\": \"Avengers\", \n",
      "                        \"name\": \"The Avengers\"\n",
      "                    }\n",
      "                ], \n",
      "                \"symbols\": [], \n",
      "                \"hashtags\": [\n",
      "                    {\n",
      "                        \"indices\": [\n",
      "                            42, \n",
      "                            54\n",
      "                        ], \n",
      "                        \"text\": \"InfinityWar\"\n",
      "                    }\n",
      "                ], \n",
      "                \"urls\": [\n",
      "                    {\n",
      "                        \"url\": \"https://t.co/xQsJemiGws\", \n",
      "                        \"indices\": [\n",
      "                            96, \n",
      "                            119\n",
      "                        ], \n",
      "                        \"expanded_url\": \"http://www.fandango.com/infinitywar\", \n",
      "                        \"display_url\": \"fandango.com/infinitywar\"\n",
      "                    }\n",
      "                ], \n",
      "                \"media\": [\n",
      "                    {\n",
      "                        \"expanded_url\": \"https://twitter.com/MarvelStudios/status/989557222689587200/photo/1\", \n",
      "                        \"display_url\": \"pic.twitter.com/Inu3gWiQPo\", \n",
      "                        \"url\": \"https://t.co/Inu3gWiQPo\", \n",
      "                        \"media_url_https\": \"https://pbs.twimg.com/media/DbuY2XxU0AAWy7i.jpg\", \n",
      "                        \"id_str\": \"989552602999214080\", \n",
      "                        \"sizes\": {\n",
      "                            \"small\": {\n",
      "                                \"h\": 383, \n",
      "                                \"resize\": \"fit\", \n",
      "                                \"w\": 680\n",
      "                            }, \n",
      "                            \"large\": {\n",
      "                                \"h\": 1080, \n",
      "                                \"resize\": \"fit\", \n",
      "                                \"w\": 1920\n",
      "                            }, \n",
      "                            \"medium\": {\n",
      "                                \"h\": 675, \n",
      "                                \"resize\": \"fit\", \n",
      "                                \"w\": 1200\n",
      "                            }, \n",
      "                            \"thumb\": {\n",
      "                                \"h\": 150, \n",
      "                                \"resize\": \"crop\", \n",
      "                                \"w\": 150\n",
      "                            }\n",
      "                        }, \n",
      "                        \"indices\": [\n",
      "                            120, \n",
      "                            143\n",
      "                        ], \n",
      "                        \"type\": \"photo\", \n",
      "                        \"id\": 989552602999214080, \n",
      "                        \"media_url\": \"http://pbs.twimg.com/media/DbuY2XxU0AAWy7i.jpg\"\n",
      "                    }\n",
      "                ]\n",
      "            }, \n",
      "            \"extended_entities\": {\n",
      "                \"media\": [\n",
      "                    {\n",
      "                        \"expanded_url\": \"https://twitter.com/MarvelStudios/status/989557222689587200/photo/1\", \n",
      "                        \"display_url\": \"pic.twitter.com/Inu3gWiQPo\", \n",
      "                        \"url\": \"https://t.co/Inu3gWiQPo\", \n",
      "                        \"media_url_https\": \"https://pbs.twimg.com/media/DbuY2XxU0AAWy7i.jpg\", \n",
      "                        \"id_str\": \"989552602999214080\", \n",
      "                        \"sizes\": {\n",
      "                            \"small\": {\n",
      "                                \"h\": 383, \n",
      "                                \"resize\": \"fit\", \n",
      "                                \"w\": 680\n",
      "                            }, \n",
      "                            \"large\": {\n",
      "                                \"h\": 1080, \n",
      "                                \"resize\": \"fit\", \n",
      "                                \"w\": 1920\n",
      "                            }, \n",
      "                            \"medium\": {\n",
      "                                \"h\": 675, \n",
      "                                \"resize\": \"fit\", \n",
      "                                \"w\": 1200\n",
      "                            }, \n",
      "                            \"thumb\": {\n",
      "                                \"h\": 150, \n",
      "                                \"resize\": \"crop\", \n",
      "                                \"w\": 150\n",
      "                            }\n",
      "                        }, \n",
      "                        \"indices\": [\n",
      "                            120, \n",
      "                            143\n",
      "                        ], \n",
      "                        \"type\": \"photo\", \n",
      "                        \"id\": 989552602999214080, \n",
      "                        \"media_url\": \"http://pbs.twimg.com/media/DbuY2XxU0AAWy7i.jpg\"\n",
      "                    }\n",
      "                ]\n",
      "            }, \n",
      "            \"full_text\": \"It\\u2019s all been leading to this. @Avengers: #InfinityWar is in theaters TONIGHT. Get tickets now: https://t.co/xQsJemiGws https://t.co/Inu3gWiQPo\"\n",
      "        }, \n",
      "        \"created_at\": \"Thu Apr 26 17:30:01 +0000 2018\", \n",
      "        \"filter_level\": \"low\", \n",
      "        \"in_reply_to_status_id_str\": null, \n",
      "        \"place\": null\n",
      "    }, \n",
      "    \"user\": {\n",
      "        \"follow_request_sent\": null, \n",
      "        \"profile_use_background_image\": true, \n",
      "        \"default_profile_image\": false, \n",
      "        \"id\": 296637273, \n",
      "        \"default_profile\": false, \n",
      "        \"verified\": false, \n",
      "        \"profile_image_url_https\": \"https://pbs.twimg.com/profile_images/988431880780435457/fsLqG1E8_normal.jpg\", \n",
      "        \"profile_sidebar_fill_color\": \"EFEFEF\", \n",
      "        \"profile_text_color\": \"333333\", \n",
      "        \"followers_count\": 1035, \n",
      "        \"profile_sidebar_border_color\": \"000000\", \n",
      "        \"id_str\": \"296637273\", \n",
      "        \"profile_background_color\": \"131516\", \n",
      "        \"listed_count\": 23, \n",
      "        \"profile_background_image_url_https\": \"https://abs.twimg.com/images/themes/theme14/bg.gif\", \n",
      "        \"utc_offset\": -18000, \n",
      "        \"statuses_count\": 55593, \n",
      "        \"description\": \"Asshole By Nature. Marlin High Class Of \\u201810. EST 1992. Father First Before Anything. BRAYDEN & CARMELO. #GoNiners #GoBlueDevils #GoAstros #GoHornedFrogs\", \n",
      "        \"friends_count\": 1089, \n",
      "        \"location\": \"Marlin, TX\", \n",
      "        \"profile_link_color\": \"BA2409\", \n",
      "        \"profile_image_url\": \"http://pbs.twimg.com/profile_images/988431880780435457/fsLqG1E8_normal.jpg\", \n",
      "        \"following\": null, \n",
      "        \"geo_enabled\": true, \n",
      "        \"profile_banner_url\": \"https://pbs.twimg.com/profile_banners/296637273/1523832312\", \n",
      "        \"profile_background_image_url\": \"http://abs.twimg.com/images/themes/theme14/bg.gif\", \n",
      "        \"name\": \"\\uf8ff Phill Williamson \\uf8ff\", \n",
      "        \"lang\": \"en\", \n",
      "        \"profile_background_tile\": true, \n",
      "        \"favourites_count\": 25690, \n",
      "        \"screen_name\": \"PHILLABN\", \n",
      "        \"notifications\": null, \n",
      "        \"url\": null, \n",
      "        \"created_at\": \"Wed May 11 04:23:29 +0000 2011\", \n",
      "        \"contributors_enabled\": false, \n",
      "        \"time_zone\": \"Central Time (US & Canada)\", \n",
      "        \"protected\": false, \n",
      "        \"translator_type\": \"none\", \n",
      "        \"is_translator\": false\n",
      "    }, \n",
      "    \"geo\": null, \n",
      "    \"in_reply_to_user_id_str\": null, \n",
      "    \"possibly_sensitive\": false, \n",
      "    \"lang\": \"en\", \n",
      "    \"created_at\": \"Thu Apr 26 18:09:40 +0000 2018\", \n",
      "    \"filter_level\": \"low\", \n",
      "    \"in_reply_to_status_id_str\": null, \n",
      "    \"place\": null\n",
      "}\n"
     ]
    }
   ],
   "source": [
    "import json\n",
    " \n",
    "with open('data/Infinity_war_tweets.json', 'r') as f:\n",
    "    line = f.readline() # read only the first tweet/line\n",
    "    tweet = json.loads(line) # load it as Python dictionary\n",
    "    print(json.dumps(tweet, indent=4)) \n",
    "    \n",
    "# the original data from Twitter looks like below."
   ]
  },
  {
   "cell_type": "code",
   "execution_count": 4,
   "metadata": {
    "collapsed": true
   },
   "outputs": [],
   "source": [
    "import json\n",
    "\n",
    "# create an empty list to store our tweets in\n",
    "data = []\n",
    "\n",
    "# append each line of the data to our tweets list using the json module\n",
    "for line in open('data/Infinity_war_tweets.json'):\n",
    "    try:\n",
    "        data.append(json.loads(line))\n",
    "    except:\n",
    "        pass\n",
    "\n"
   ]
  },
  {
   "cell_type": "markdown",
   "metadata": {},
   "source": [
    "# Basic Twitter Information"
   ]
  },
  {
   "cell_type": "markdown",
   "metadata": {},
   "source": [
    "## Tweet statistics"
   ]
  },
  {
   "cell_type": "code",
   "execution_count": 5,
   "metadata": {},
   "outputs": [
    {
     "data": {
      "text/plain": [
       "8189"
      ]
     },
     "execution_count": 5,
     "metadata": {},
     "output_type": "execute_result"
    }
   ],
   "source": [
    "# How many Tweets are there?\n",
    "tweets = []\n",
    "for T in data:\n",
    "    if 'text' in T:\n",
    "        tweets.append(T)\n",
    "len(tweets)   "
   ]
  },
  {
   "cell_type": "code",
   "execution_count": 6,
   "metadata": {},
   "outputs": [
    {
     "name": "stdout",
     "output_type": "stream",
     "text": [
      "RT @MarvelStudios: It’s all been leading to this. @Avengers: #InfinityWar is in theaters TONIGHT. Get tickets now: https://t.co/xQsJemiGws…\n",
      "RT @greenkhan001: Hi\n",
      "This is my #new #Business #card #Design.If you like it\n",
      "\n",
      "Contact : https://t.co/RAnuUhtByg \n",
      "\n",
      "#بايرن_مدريد #InfinityWar…\n",
      "RT @GameStop: That moment you remember #InfinityWar starts tonight... https://t.co/gapma3ZEPJ\n",
      "RT @ColbyCovMMA: Gamora, Loki &amp; Vison die. Spiderman turns to dust in Iron Man's arms. Dr Strange, Black Panther, Star Lord, Bucky, Drax &amp;…\n",
      "@Niis0207 Esta Hermoso❤ #SpiderMan \n",
      "#InfinityWar\n"
     ]
    }
   ],
   "source": [
    "# read first five tweets only \n",
    "for i in data[:5]:\n",
    "    print i['text']"
   ]
  },
  {
   "cell_type": "markdown",
   "metadata": {},
   "source": [
    "### As you can see that there is a total of 8189 tweets but some of them are not in English. Let us discover how many tweets are in English. "
   ]
  },
  {
   "cell_type": "code",
   "execution_count": 9,
   "metadata": {},
   "outputs": [
    {
     "name": "stdout",
     "output_type": "stream",
     "text": [
      "Counter({u'en': 5272, u'es': 1256, u'th': 404, u'pt': 302, u'fr': 279, u'it': 132, u'de': 128, u'pl': 75, u'en-gb': 61, u'ja': 45, u'ru': 38, u'hu': 29, u'tr': 28, u'en-GB': 26, u'ko': 23, u'id': 16, u'nl': 11, u'cs': 8, u'el': 7, u'sv': 6, u'ar': 5, u'da': 5, u'he': 5, u'uk': 4, u'zh-tw': 3, u'xx-lc': 3, u'fi': 3, u'zh-TW': 3, u'ca': 2, u'bg': 2, u'hr': 2, u'es-MX': 2, u'no': 1, u'ro': 1, u'fa': 1, u'sk': 1})\n"
     ]
    }
   ],
   "source": [
    "# How many Languages are there\n",
    "lang = [T['user']['lang'] for T in tweets if 'user' in T]\n",
    "\n",
    "c = Counter(lang)\n",
    "print c  "
   ]
  },
  {
   "cell_type": "code",
   "execution_count": 10,
   "metadata": {},
   "outputs": [
    {
     "data": {
      "text/plain": [
       "(5272, 'English Tweets')"
      ]
     },
     "execution_count": 10,
     "metadata": {},
     "output_type": "execute_result"
    }
   ],
   "source": [
    "# only English tweets \n",
    "english = []\n",
    "for i in tweets:\n",
    "    if i['user']['lang'] == \"en\":\n",
    "        english.append(i)\n",
    "len(english), \"English Tweets\""
   ]
  },
  {
   "cell_type": "markdown",
   "metadata": {},
   "source": [
    "### Only 5272 tweets that are in English"
   ]
  },
  {
   "cell_type": "markdown",
   "metadata": {},
   "source": [
    "## How many tweets are Original (NOT RETWEETED)"
   ]
  },
  {
   "cell_type": "code",
   "execution_count": 54,
   "metadata": {},
   "outputs": [
    {
     "data": {
      "text/plain": [
       "8189"
      ]
     },
     "execution_count": 54,
     "metadata": {},
     "output_type": "execute_result"
    }
   ],
   "source": [
    "# Saving all of the tweets \n",
    "texts = [ T['text'] for T in data if 'text' in T ]\n",
    "len(texts)"
   ]
  },
  {
   "cell_type": "code",
   "execution_count": 55,
   "metadata": {},
   "outputs": [
    {
     "data": {
      "text/plain": [
       "(2438, 'Origial Tweets')"
      ]
     },
     "execution_count": 55,
     "metadata": {},
     "output_type": "execute_result"
    }
   ],
   "source": [
    "#remove retweets\n",
    "\n",
    "originaltweets = []\n",
    "\n",
    "for tweet in texts:\n",
    "    if 'rt @' not in tweet.lower():\n",
    "        originaltweets.append(tweet)\n",
    "        \n",
    "len(originaltweets), \"Origial Tweets\""
   ]
  },
  {
   "cell_type": "markdown",
   "metadata": {},
   "source": [
    "## How Many Tweets are Retweets?"
   ]
  },
  {
   "cell_type": "code",
   "execution_count": 56,
   "metadata": {},
   "outputs": [
    {
     "data": {
      "text/plain": [
       "(5751, 'Retweets')"
      ]
     },
     "execution_count": 56,
     "metadata": {},
     "output_type": "execute_result"
    }
   ],
   "source": [
    "#Viewing only Retweets\n",
    "retweets_only = []\n",
    "\n",
    "for tweet in texts:\n",
    "    if 'rt @' in tweet.lower():\n",
    "        retweets_only.append(tweet)\n",
    "        \n",
    "len(retweets_only), \"Retweets\""
   ]
  },
  {
   "cell_type": "markdown",
   "metadata": {},
   "source": [
    "## The Total of Tweets Orginal Tweets and Retweets"
   ]
  },
  {
   "cell_type": "code",
   "execution_count": 57,
   "metadata": {},
   "outputs": [
    {
     "name": "stdout",
     "output_type": "stream",
     "text": [
      "8189 tweets\n",
      "2438 Original tweets\n",
      "5751 Retweets\n"
     ]
    }
   ],
   "source": [
    "# lets see how many tweets\n",
    "print len(data) ,\"tweets\"\n",
    "print len(originaltweets), \"Original tweets\"\n",
    "print len(retweets_only), \"Retweets\""
   ]
  },
  {
   "cell_type": "markdown",
   "metadata": {},
   "source": [
    "### I find this pretty crazy that for less than an hour of twitter scrapeing 8189 tweets were recieved."
   ]
  },
  {
   "cell_type": "markdown",
   "metadata": {},
   "source": [
    "# Tweet hashtags"
   ]
  },
  {
   "cell_type": "markdown",
   "metadata": {},
   "source": [
    "## The # used for the data collection was #infinitywar and as is expected majority of the hashtags are this"
   ]
  },
  {
   "cell_type": "code",
   "execution_count": 58,
   "metadata": {},
   "outputs": [
    {
     "name": "stdout",
     "output_type": "stream",
     "text": [
      "[u'InfinityWar']\n",
      "[u'new', u'Business', u'card', u'Design', u'InfinityWar']\n",
      "[u'InfinityWar']\n",
      "[]\n",
      "[u'SpiderMan', u'InfinityWar']\n",
      "[u'BlackPanther', u'Thanos', u'InfinityWar']\n",
      "[u'InfinityWar']\n",
      "[u'InfinityWar']\n",
      "[u'InfinityWar', u'InfinityWarTH']\n",
      "[u'InfinityWar']\n",
      "[u'InfinityWar']\n",
      "[u'InfinityWar']\n",
      "[]\n",
      "[u'InfinityWar']\n",
      "[]\n",
      "[u'InfinityWar']\n",
      "[u'InfinityWar']\n",
      "[u'InfinityWar']\n",
      "[u'NFLDraft2018', u'ThursdayThoughts', u'InfinityWar', u'NationalPretzelDay', u'NFLDraft18', u'AvengersInfinityWars', u'Ne']\n",
      "[u'InfinityWar']\n",
      "[u'InfinityWar']\n",
      "[u'InfinityWar']\n",
      "[u'InfinityWar']\n",
      "[u'Business', u'card', u'Design', u'like', u'InfinityWar']\n",
      "[]\n"
     ]
    }
   ],
   "source": [
    "hashtags = []\n",
    "\n",
    "for tweet in texts[:25]:\n",
    "    print re.findall(r\"(?<=#)\\w+\", tweet)\n"
   ]
  },
  {
   "cell_type": "markdown",
   "metadata": {},
   "source": [
    "### As you can see the second line, line 19, and line 24 is a little stange \n",
    "### While the others only have to do with the movie "
   ]
  },
  {
   "cell_type": "code",
   "execution_count": 59,
   "metadata": {
    "collapsed": true
   },
   "outputs": [],
   "source": [
    "# for 5,000 tweets we will check out how # there are \n",
    "for tweet in texts[:5000]:\n",
    "    a = re.findall(r\"(?<=#)\\w+\", tweet)\n",
    "    for i in a:\n",
    "         hashtags.append(['#'+i])\n",
    "       "
   ]
  },
  {
   "cell_type": "code",
   "execution_count": 60,
   "metadata": {},
   "outputs": [
    {
     "name": "stdout",
     "output_type": "stream",
     "text": [
      "[u'#InfinityWar']\n",
      "[u'#new']\n",
      "[u'#Business']\n",
      "[u'#card']\n",
      "[u'#Design']\n",
      "[u'#InfinityWar']\n",
      "[u'#InfinityWar']\n",
      "[u'#SpiderMan']\n",
      "[u'#InfinityWar']\n",
      "[u'#BlackPanther']\n",
      "[u'#Thanos']\n",
      "[u'#InfinityWar']\n",
      "[u'#InfinityWar']\n",
      "[u'#InfinityWar']\n",
      "[u'#InfinityWar']\n"
     ]
    }
   ],
   "source": [
    " # Printing the first 15 hasahtags to appear in texts\n",
    "for i in hashtags[:15]:\n",
    "    print i"
   ]
  },
  {
   "cell_type": "code",
   "execution_count": 61,
   "metadata": {},
   "outputs": [
    {
     "data": {
      "text/plain": [
       "[(\"[u'#infinitywar'],\", 3965),\n",
       " (\"[u'#avengers'],\", 401),\n",
       " (\"[u'#infinitywarth'],\", 259),\n",
       " (\"[u'#avengersinfinitywar'],\", 144),\n",
       " (\"[u'#ironman'],\", 79),\n",
       " (\"[u'#thor'],\", 69),\n",
       " (\"[u'#thanos'],\", 59),\n",
       " (\"[u'#guerrainfinita'],\", 54),\n",
       " (\"[u'#joshbrolin'],\", 53),\n",
       " (\"[u'#marvel'],\", 53),\n",
       " (\"[u'#avengersinfinitywars'],\", 52),\n",
       " (\"[u'#thanosdemandsyoursilence'],\", 49),\n",
       " (\"[u'#solounidospodr'],\", 48),\n",
       " (\"[u'#doctorstrange'],\", 44),\n",
       " (\"[u'#sebastianstan'],\", 43)]"
      ]
     },
     "execution_count": 61,
     "metadata": {},
     "output_type": "execute_result"
    }
   ],
   "source": [
    "#compute frequency distribution for all the hashtags in the tweets\n",
    "\n",
    "#convert lists to strings\n",
    "hashtags_string = str(hashtags)\n",
    "\n",
    "#lowercase\n",
    "hashtags_string = hashtags_string.lower()\n",
    "\n",
    "#tokenize\n",
    "hashtags_string = hashtags_string.split()\n",
    "\n",
    "fdist = nltk.FreqDist(hashtags_string)\n",
    "\n",
    "fdist.most_common(15)\n",
    "# Top 15 Most Popular Hashtags"
   ]
  },
  {
   "cell_type": "markdown",
   "metadata": {},
   "source": [
    "### All of these hashtags have to do with Infinity war with some being actors some being heroes and others are in spanish."
   ]
  },
  {
   "cell_type": "markdown",
   "metadata": {},
   "source": [
    "# Tweets per user"
   ]
  },
  {
   "cell_type": "code",
   "execution_count": 62,
   "metadata": {},
   "outputs": [
    {
     "data": {
      "text/plain": [
       "8189"
      ]
     },
     "execution_count": 62,
     "metadata": {},
     "output_type": "execute_result"
    }
   ],
   "source": [
    "tweets = []\n",
    "for T in data:\n",
    "    if 'text' in T:\n",
    "        tweets.append(T)\n",
    "len(tweets), \"Total tweets\"     "
   ]
  },
  {
   "cell_type": "code",
   "execution_count": 63,
   "metadata": {},
   "outputs": [
    {
     "data": {
      "text/plain": [
       "8189"
      ]
     },
     "execution_count": 63,
     "metadata": {},
     "output_type": "execute_result"
    }
   ],
   "source": [
    "# How many Screen names are there in the tweets\n",
    "screen_names = [T['user']['screen_name'] for T in tweets]\n",
    "len(screen_names)"
   ]
  },
  {
   "cell_type": "code",
   "execution_count": 64,
   "metadata": {},
   "outputs": [
    {
     "data": {
      "text/plain": [
       "(6789, 'Unique users')"
      ]
     },
     "execution_count": 64,
     "metadata": {},
     "output_type": "execute_result"
    }
   ],
   "source": [
    "# How many unique users?\n",
    "c = Counter(screen_names)\n",
    "\n",
    "len(c), \"Unique users\""
   ]
  },
  {
   "cell_type": "code",
   "execution_count": 65,
   "metadata": {},
   "outputs": [
    {
     "data": {
      "text/plain": [
       "[(u'RobTamash', 46),\n",
       " (u'bernadett_bocsi', 25),\n",
       " (u'angeloluis27', 23),\n",
       " (u'greenkhan001', 20),\n",
       " (u'TKComedy2013', 20)]"
      ]
     },
     "execution_count": 65,
     "metadata": {},
     "output_type": "execute_result"
    }
   ],
   "source": [
    "# five most active tweeters\n",
    "c.most_common(5)"
   ]
  },
  {
   "cell_type": "markdown",
   "metadata": {},
   "source": [
    "## RobTamash is a spanish user that talks about the movie\n",
    "## Bernadett_bosci is talking about the movie\n",
    "## angeloluis27 is talking about the movie\n",
    "## TKComedy2013 is talking about the movie\n"
   ]
  },
  {
   "cell_type": "markdown",
   "metadata": {},
   "source": [
    "## What i find interesting is that Greenkhan001 is not talking about the movie instead he is using that hashtag to promote his graphic desgign business. He also has many different hashtags to get the word out. "
   ]
  },
  {
   "cell_type": "code",
   "execution_count": 66,
   "metadata": {},
   "outputs": [
    {
     "data": {
      "text/html": [
       "<div>\n",
       "<style>\n",
       "    .dataframe thead tr:only-child th {\n",
       "        text-align: right;\n",
       "    }\n",
       "\n",
       "    .dataframe thead th {\n",
       "        text-align: left;\n",
       "    }\n",
       "\n",
       "    .dataframe tbody tr th {\n",
       "        vertical-align: top;\n",
       "    }\n",
       "</style>\n",
       "<table border=\"1\" class=\"dataframe\">\n",
       "  <thead>\n",
       "    <tr style=\"text-align: right;\">\n",
       "      <th></th>\n",
       "      <th>0</th>\n",
       "      <th>1</th>\n",
       "    </tr>\n",
       "  </thead>\n",
       "  <tbody>\n",
       "    <tr>\n",
       "      <th>0</th>\n",
       "      <td>RobTamash</td>\n",
       "      <td>46</td>\n",
       "    </tr>\n",
       "    <tr>\n",
       "      <th>1</th>\n",
       "      <td>bernadett_bocsi</td>\n",
       "      <td>25</td>\n",
       "    </tr>\n",
       "    <tr>\n",
       "      <th>2</th>\n",
       "      <td>angeloluis27</td>\n",
       "      <td>23</td>\n",
       "    </tr>\n",
       "    <tr>\n",
       "      <th>3</th>\n",
       "      <td>greenkhan001</td>\n",
       "      <td>20</td>\n",
       "    </tr>\n",
       "    <tr>\n",
       "      <th>4</th>\n",
       "      <td>TKComedy2013</td>\n",
       "      <td>20</td>\n",
       "    </tr>\n",
       "  </tbody>\n",
       "</table>\n",
       "</div>"
      ],
      "text/plain": [
       "                 0   1\n",
       "0        RobTamash  46\n",
       "1  bernadett_bocsi  25\n",
       "2     angeloluis27  23\n",
       "3     greenkhan001  20\n",
       "4     TKComedy2013  20"
      ]
     },
     "execution_count": 66,
     "metadata": {},
     "output_type": "execute_result"
    }
   ],
   "source": [
    "# putting the top 5 users into a dataframe\n",
    "activetweeters = c.most_common(5)\n",
    "activetweeters_df = pd.DataFrame(activetweeters)\n",
    "activetweeters_df"
   ]
  },
  {
   "cell_type": "markdown",
   "metadata": {},
   "source": [
    "## Who are popularly mentioned by other users?"
   ]
  },
  {
   "cell_type": "code",
   "execution_count": 67,
   "metadata": {},
   "outputs": [
    {
     "name": "stdout",
     "output_type": "stream",
     "text": [
      "[u'MarvelStudios', u'Avengers']\n",
      "[u'greenkhan001']\n",
      "[u'GameStop']\n",
      "[u'ColbyCovMMA']\n",
      "[u'Niis0207']\n"
     ]
    }
   ],
   "source": [
    "for tweet in texts[:5]:\n",
    "    print re.findall(r\"(?<=@)\\w+\", tweet)\n",
    "    #First 5 mentions in the tweets"
   ]
  },
  {
   "cell_type": "code",
   "execution_count": 68,
   "metadata": {},
   "outputs": [
    {
     "name": "stdout",
     "output_type": "stream",
     "text": [
      "@MarvelStudios\n",
      "@Avengers\n",
      "@greenkhan001\n",
      "@GameStop\n",
      "@ColbyCovMMA\n",
      "@Niis0207\n"
     ]
    }
   ],
   "source": [
    "for tweet in texts[:5]:\n",
    "    a = re.findall(r\"(?<=@)\\w+\", tweet)\n",
    "    for i in a:\n",
    "        print '@'+i\n",
    "        \n",
    "        #First 5 mentions in the tweets"
   ]
  },
  {
   "cell_type": "code",
   "execution_count": 69,
   "metadata": {
    "collapsed": true
   },
   "outputs": [],
   "source": [
    "visible_users = []\n",
    "\n",
    "for tweet in texts:\n",
    "    a = re.findall(r\"(?<=@)\\w+\", tweet)\n",
    "    for i in a:\n",
    "        visible_users.append(['@'+i])\n",
    "        #Discovering the visiable users"
   ]
  },
  {
   "cell_type": "code",
   "execution_count": 70,
   "metadata": {},
   "outputs": [
    {
     "data": {
      "text/plain": [
       "[(\"[u'@avengers'],\", 1744),\n",
       " (\"[u'@chadwickboseman'],\", 592),\n",
       " (\"[u'@marvelstudios'],\", 575),\n",
       " (\"[u'@marvel'],\", 395),\n",
       " (\"[u'@jamesgunn'],\", 378),\n",
       " (\"[u'@fieetmac'],\", 280),\n",
       " (\"[u'@chrishemsworth'],\", 213),\n",
       " (\"[u'@doonungvonpai'],\", 160),\n",
       " (\"[u'@taikawaititi'],\", 123),\n",
       " (\"[u'@karengillan'],\", 104)]"
      ]
     },
     "execution_count": 70,
     "metadata": {},
     "output_type": "execute_result"
    }
   ],
   "source": [
    " #convert lists to strings\n",
    "visible_users = str(visible_users)\n",
    "\n",
    "#lowercase\n",
    "visible_users = visible_users.lower()\n",
    "\n",
    "#tokenize\n",
    "visible_users = visible_users.split()\n",
    "\n",
    "fdist = nltk.FreqDist(visible_users)\n",
    "\n",
    "fdist.most_common(10)"
   ]
  },
  {
   "cell_type": "markdown",
   "metadata": {},
   "source": [
    "## Avengers and Chadwickboseman are the top two. Avengers is the name of the team in the movie and Chadwickboseman plays the character Black Panther."
   ]
  },
  {
   "cell_type": "markdown",
   "metadata": {},
   "source": [
    "# Who are the top ten mentioned users?"
   ]
  },
  {
   "cell_type": "code",
   "execution_count": 71,
   "metadata": {},
   "outputs": [
    {
     "data": {
      "text/plain": [
       "[('\"[u\\'@avengers\\'],\",', 1744),\n",
       " ('\"[u\\'@chadwickboseman\\'],\",', 592),\n",
       " ('\"[u\\'@marvelstudios\\'],\",', 575),\n",
       " ('\"[u\\'@marvel\\'],\",', 395),\n",
       " ('\"[u\\'@jamesgunn\\'],\",', 378),\n",
       " ('\"[u\\'@fieetmac\\'],\",', 280),\n",
       " ('\"[u\\'@chrishemsworth\\'],\",', 213),\n",
       " ('\"[u\\'@doonungvonpai\\'],\",', 160),\n",
       " ('\"[u\\'@taikawaititi\\'],\",', 123),\n",
       " ('\"[u\\'@karengillan\\'],\",', 104)]"
      ]
     },
     "execution_count": 71,
     "metadata": {},
     "output_type": "execute_result"
    }
   ],
   "source": [
    "#convert lists to strings\n",
    "visible_users = str(visible_users)\n",
    "\n",
    "#lowercase\n",
    "visible_users = visible_users.lower()\n",
    "\n",
    "#tokenize\n",
    "visible_users = visible_users.split()\n",
    "\n",
    "fdist = nltk.FreqDist(visible_users)\n",
    "\n",
    "fdist.most_common(10)"
   ]
  },
  {
   "cell_type": "markdown",
   "metadata": {},
   "source": [
    "#### Avengers is number one as is expected since the movie is about them and Marvel is number 3 on the list."
   ]
  },
  {
   "cell_type": "markdown",
   "metadata": {},
   "source": [
    "# 3 URL METRICS"
   ]
  },
  {
   "cell_type": "markdown",
   "metadata": {},
   "source": [
    "## A. URL: how many URLs in tweets? How many unique URLs in the dataset? "
   ]
  },
  {
   "cell_type": "code",
   "execution_count": 72,
   "metadata": {},
   "outputs": [
    {
     "name": "stdout",
     "output_type": "stream",
     "text": [
      "[{u'url': u'https://t.co/xQsJemiGws', u'indices': [115, 138], u'expanded_url': u'http://www.fandango.com/infinitywar', u'display_url': u'fandango.com/infinitywar'}]\n",
      "[{u'url': u'https://t.co/RAnuUhtByg', u'indices': [87, 110], u'expanded_url': u'https://goo.gl/hFCB44', u'display_url': u'goo.gl/hFCB44'}]\n",
      "[]\n",
      "[]\n",
      "[]\n",
      "[]\n",
      "[]\n",
      "[]\n",
      "[]\n",
      "[]\n"
     ]
    }
   ],
   "source": [
    "for T in tweets[:10]:\n",
    "    print T['entities']['urls']"
   ]
  },
  {
   "cell_type": "code",
   "execution_count": 73,
   "metadata": {
    "collapsed": true
   },
   "outputs": [],
   "source": [
    "urls = []\n",
    "\n",
    "for T in tweets:\n",
    "    for i in T['entities']['urls']:\n",
    "        urls.append(i['url'])\n",
    "        \n"
   ]
  },
  {
   "cell_type": "code",
   "execution_count": 74,
   "metadata": {},
   "outputs": [
    {
     "data": {
      "text/plain": [
       "2962"
      ]
     },
     "execution_count": 74,
     "metadata": {},
     "output_type": "execute_result"
    }
   ],
   "source": [
    "len(urls)"
   ]
  },
  {
   "cell_type": "code",
   "execution_count": 75,
   "metadata": {},
   "outputs": [
    {
     "name": "stdout",
     "output_type": "stream",
     "text": [
      "1492 Unique URLS\n"
     ]
    }
   ],
   "source": [
    "unique_word_count = len(set(urls))\n",
    "print unique_word_count, \"Unique URLS\""
   ]
  },
  {
   "cell_type": "markdown",
   "metadata": {},
   "source": [
    "## The top URL will take you to the website Fandango. "
   ]
  },
  {
   "cell_type": "markdown",
   "metadata": {},
   "source": [
    "# Top URLS"
   ]
  },
  {
   "cell_type": "code",
   "execution_count": 76,
   "metadata": {},
   "outputs": [
    {
     "data": {
      "text/plain": [
       "[(u'https://t.co/xQsJemiGws', 501),\n",
       " (u'https://t.co/et9a52O4bk', 280),\n",
       " (u'https://t.co/kctg8VkHan', 170),\n",
       " (u'https://t.co/4TWA3POmEN', 85),\n",
       " (u'https://t.co/UiS1rbqfAk', 68),\n",
       " (u'https://t.co/RM7FkOs1XA', 63),\n",
       " (u'https://t.co/BA6hpJofaT', 28),\n",
       " (u'https://t.co/kwjNUZvkpo', 27),\n",
       " (u'https://t.co/65awOtfJig', 22),\n",
       " (u'https://t.co/yhRZaQHky5', 22)]"
      ]
     },
     "execution_count": 76,
     "metadata": {},
     "output_type": "execute_result"
    }
   ],
   "source": [
    "urls\n",
    "c = Counter(urls)\n",
    "c.most_common(10)"
   ]
  },
  {
   "cell_type": "markdown",
   "metadata": {},
   "source": [
    "# Sentiment Analysis"
   ]
  },
  {
   "cell_type": "code",
   "execution_count": 11,
   "metadata": {},
   "outputs": [
    {
     "data": {
      "text/plain": [
       "1479"
      ]
     },
     "execution_count": 11,
     "metadata": {},
     "output_type": "execute_result"
    }
   ],
   "source": [
    "english_originaltweets = []\n",
    "\n",
    "for tweet in english:\n",
    "    if 'rt @' not in tweet['text'].lower():\n",
    "        english_originaltweets.append(tweet['text'])\n",
    "        \n",
    "len(english_originaltweets)"
   ]
  },
  {
   "cell_type": "code",
   "execution_count": 12,
   "metadata": {
    "collapsed": true
   },
   "outputs": [],
   "source": [
    "# Remove useless numbers and alphanumerical words including http     \n",
    "documents = [re.sub(\"(@[A-Za-z0-9]+)|([^0-9A-Za-z \\t])|(\\w+:\\/\\/\\S+)\", \" \", text) for text in english_originaltweets]\n",
    "# tokenize\n",
    "texts = [[word for word in text.lower().split() ] for text in documents]\n",
    "# stemming words: having --> have; friends --> friend\n",
    "lmtzr = WordNetLemmatizer()\n",
    "texts = [[lmtzr.lemmatize(word) for word in text ] for text in texts]\n",
    "# remove common words \n",
    "stoplist = stopwords.words('english')\n",
    "texts = [[word for word in text if word not in stoplist] for text in texts]\n",
    "#remove short words\n",
    "english_originaltweets_clean = [[ word for word in tokens if len(word) >= 3 ] for tokens in texts]"
   ]
  },
  {
   "cell_type": "code",
   "execution_count": 100,
   "metadata": {
    "collapsed": true
   },
   "outputs": [],
   "source": [
    "for tweet in english_originaltweets_clean:\n",
    "    score = sentiment(tweet)"
   ]
  },
  {
   "cell_type": "code",
   "execution_count": 101,
   "metadata": {
    "collapsed": true
   },
   "outputs": [],
   "source": [
    "positive_reviewsp = []\n",
    "negative_reviewsp = []\n",
    "neutral_reviewsp = []\n",
    "\n",
    "for row in english_originaltweets_clean:\n",
    "    t = row\n",
    "    score = sentiment(t)\n",
    "    if score[0] > 0:\n",
    "        positive_reviewsp.append(t)\n",
    "    elif score[0] == 0:\n",
    "        neutral_reviewsp.append(t)\n",
    "    else:\n",
    "        negative_reviewsp.append(t)"
   ]
  },
  {
   "cell_type": "code",
   "execution_count": 102,
   "metadata": {
    "collapsed": true
   },
   "outputs": [],
   "source": [
    "p = 'Positive'\n",
    "N= 'Negative' \n",
    "n= 'Neutral'\n",
    "# These will be used for labeling throughout the tutorial for clarification"
   ]
  },
  {
   "cell_type": "code",
   "execution_count": 103,
   "metadata": {},
   "outputs": [
    {
     "name": "stdout",
     "output_type": "stream",
     "text": [
      "458 Positive\n",
      "149 Negative\n",
      "872 Neutral\n"
     ]
    }
   ],
   "source": [
    "print len(positive_reviewsp),p\n",
    "print len(negative_reviewsp),N\n",
    "print len(neutral_reviewsp),n\n",
    "#showing how many reviews in each category"
   ]
  },
  {
   "cell_type": "markdown",
   "metadata": {},
   "source": [
    "## Pretty good with 458 positive and only 49 negative. I think the high neutral numbers are due to the fact that peoplehave not seen the movie yet when the tweets were collected."
   ]
  },
  {
   "cell_type": "code",
   "execution_count": 13,
   "metadata": {},
   "outputs": [],
   "source": [
    "# A list of extra stopwords specific to the debates transcripts (if you want to remove more stopwords)\n",
    "extra_stopwords = ['amp','get','got','hey','hmm','hoo','hop','iep','let','ooo','par',\n",
    "            'pdt','pln','pst','wha','yep','yer','aest','didn','nzdt','via',\n",
    "            'one','com','new','like','great','fuck','fucking','make','top','awesome','best',\n",
    "            'good','wow','yes','say','yay','would','thanks','thank','going',\n",
    "            'new','use','should','could','really','see','want','nice',\n",
    "            'while','know','free','today','day','always','last','put','live',\n",
    "            'week','went','wasn','was','used','ugh','try','kind', 'http','much',\n",
    "            'need', 'next','app','ibm','appleevent','using']\n",
    "\n",
    "extra_stoplist = extra_stopwords\n",
    "english_originaltweets_clean = [[word for word in text if word not in extra_stoplist] for text in english_originaltweets_clean]\n",
    "#https://github.com/alexperrier/datatalks/blob/master/debates/R/stm.R"
   ]
  },
  {
   "cell_type": "code",
   "execution_count": 14,
   "metadata": {
    "scrolled": true
   },
   "outputs": [
    {
     "data": {
      "text/plain": [
       "[[u'take', u'infinitywar', u'spoiler', u'ready', u'ever', u'ready'],\n",
       " [],\n",
       " [u'tempted',\n",
       "  u'watch',\n",
       "  u'infinitywar',\n",
       "  u'even',\n",
       "  u'though',\n",
       "  u'havent',\n",
       "  u'watched',\n",
       "  u'marvel',\n",
       "  u'film',\n",
       "  u'since',\n",
       "  u'iron',\n",
       "  u'man',\n",
       "  u'lost',\n",
       "  u'focuse'],\n",
       " [u'damn', u'cute', u'idk', u'word', u'describe'],\n",
       " [u'date', u'night', u'infinitywar']]"
      ]
     },
     "execution_count": 14,
     "metadata": {},
     "output_type": "execute_result"
    }
   ],
   "source": [
    "english_originaltweets_clean[:5]"
   ]
  },
  {
   "cell_type": "code",
   "execution_count": 15,
   "metadata": {},
   "outputs": [
    {
     "data": {
      "text/plain": [
       "[[u'take', u'infinitywar', u'spoiler', u'ready', u'ever', u'ready'],\n",
       " [u'tempted',\n",
       "  u'watch',\n",
       "  u'infinitywar',\n",
       "  u'even',\n",
       "  u'though',\n",
       "  u'havent',\n",
       "  u'watched',\n",
       "  u'marvel',\n",
       "  u'film',\n",
       "  u'since',\n",
       "  u'iron',\n",
       "  u'man',\n",
       "  u'lost',\n",
       "  u'focuse'],\n",
       " [u'damn', u'cute', u'idk', u'word', u'describe'],\n",
       " [u'date', u'night', u'infinitywar'],\n",
       " [u'thanos',\n",
       "  u'sonofagunart',\n",
       "  u'infinitywar',\n",
       "  u'thanos',\n",
       "  u'marvel',\n",
       "  u'portraitoftheday',\n",
       "  u'portraitart',\n",
       "  u'marvelfanart']]"
      ]
     },
     "execution_count": 15,
     "metadata": {},
     "output_type": "execute_result"
    }
   ],
   "source": [
    "english_originaltweets_clean = [x for x in english_originaltweets_clean if x]\n",
    "english_originaltweets_clean[:5]"
   ]
  },
  {
   "cell_type": "code",
   "execution_count": 16,
   "metadata": {},
   "outputs": [
    {
     "data": {
      "text/plain": [
       "1435"
      ]
     },
     "execution_count": 16,
     "metadata": {},
     "output_type": "execute_result"
    }
   ],
   "source": [
    "len(english_originaltweets_clean)"
   ]
  },
  {
   "cell_type": "markdown",
   "metadata": {},
   "source": [
    "# Mention Network"
   ]
  },
  {
   "cell_type": "code",
   "execution_count": 108,
   "metadata": {
    "collapsed": true
   },
   "outputs": [],
   "source": [
    "#putting everything together\n",
    "\n",
    "import csv\n",
    "\n",
    "mention = []\n",
    "for tweet in tweets:\n",
    "    mention.append([tweet['user']['screen_name']+',', tweet['text']])    \n",
    "openfile = open(\"data/mentionnetwork.csv\", \"wb\")\n",
    "\n",
    "w = csv.writer(openfile)\n",
    "for tweet in mention:\n",
    "    a = re.findall(r\"(?<=@)\\w+\", tweet[1])\n",
    "    for i in a:\n",
    "        w.writerow([tweet[0], '@'+i])\n",
    "        \n",
    "openfile.close()"
   ]
  },
  {
   "cell_type": "code",
   "execution_count": null,
   "metadata": {
    "collapsed": true
   },
   "outputs": [],
   "source": [
    "### @ Marvel Studios\n",
    "### @ ChadwickBoseman\n",
    "### @Avengers \n",
    "### @ChrisHemsworth\n",
    "### The top 4 in degree in and the first modularity class\n",
    "## mention Newtowk is shown in the powerpoint. "
   ]
  },
  {
   "cell_type": "markdown",
   "metadata": {},
   "source": [
    "# Co Hashtag Network\n"
   ]
  },
  {
   "cell_type": "code",
   "execution_count": 109,
   "metadata": {
    "collapsed": true
   },
   "outputs": [],
   "source": [
    "datas = []\n",
    "for i in english_originaltweets:\n",
    "    data = re.sub(\"[^a-zA-Z0-9#]+\", \" \", i)\n",
    "    hashtag = re.findall(r\"(?<=#)\\w+\", str(data).lower())\n",
    "    datas.append(hashtag)"
   ]
  },
  {
   "cell_type": "code",
   "execution_count": 110,
   "metadata": {},
   "outputs": [
    {
     "data": {
      "text/plain": [
       "[('sonofagunart', 'infinitywar'),\n",
       " ('sonofagunart', 'thanos'),\n",
       " ('sonofagunart', 'marvel'),\n",
       " ('sonofagunart', 'portraitoftheday'),\n",
       " ('sonofagunart', 'portraitart'),\n",
       " ('sonofagunart', 'marvelfanart'),\n",
       " ('infinitywar', 'thanos'),\n",
       " ('infinitywar', 'marvel'),\n",
       " ('infinitywar', 'portraitoftheday'),\n",
       " ('infinitywar', 'portraitart')]"
      ]
     },
     "execution_count": 110,
     "metadata": {},
     "output_type": "execute_result"
    }
   ],
   "source": [
    "from itertools import combinations\n",
    "cohashtags = [x for d in datas for x in combinations(d, 2)]\n",
    "cohashtags[:10]"
   ]
  },
  {
   "cell_type": "code",
   "execution_count": null,
   "metadata": {
    "collapsed": true
   },
   "outputs": [],
   "source": [
    "#Borke up into 40 unique modularities.\n",
    "# Group 2 made up 28.14% which was mostly about being  for the movie and who people are excited to see\n",
    "# Group 9 made up 12.93% which was mostly about what actors and characters will appear in the movie\n",
    "# Group 3  and Grup 10 tied Third with 7.22% \n",
    "# Group 3 is reffering to nospoilers for the movie and comics \n",
    "# Group 10 is reffering to the tickets and no spoilers. "
   ]
  },
  {
   "cell_type": "markdown",
   "metadata": {},
   "source": [
    "## Co hashtags are shown in the powerpoint. "
   ]
  },
  {
   "cell_type": "markdown",
   "metadata": {},
   "source": [
    "# Topic Modeling "
   ]
  },
  {
   "cell_type": "code",
   "execution_count": 111,
   "metadata": {
    "collapsed": true
   },
   "outputs": [],
   "source": [
    "#for cohashtag analysis\n",
    "outfile = open(\"data/cohashtag_network.csv\", \"wb\")\n",
    "w = csv.writer(outfile)\n",
    "for i in cohashtags:\n",
    "    w.writerow(i)    \n",
    "outfile.close()"
   ]
  },
  {
   "cell_type": "code",
   "execution_count": 17,
   "metadata": {
    "collapsed": true
   },
   "outputs": [],
   "source": [
    "# this is text processing required for topic modeling with Gensim\n",
    "dictionary = Dictionary(english_originaltweets_clean)\n",
    "corpus = [dictionary.doc2bow(text) for text in english_originaltweets_clean]"
   ]
  },
  {
   "cell_type": "code",
   "execution_count": 115,
   "metadata": {},
   "outputs": [
    {
     "name": "stdout",
     "output_type": "stream",
     "text": [
      "5\n",
      "10\n",
      "15\n"
     ]
    },
    {
     "data": {
      "text/plain": [
       "[<matplotlib.lines.Line2D at 0x387931d0>]"
      ]
     },
     "execution_count": 115,
     "metadata": {},
     "output_type": "execute_result"
    },
    {
     "data": {
      "image/png": "[encoded data removed]",
      "text/plain": [
       "<matplotlib.figure.Figure at 0x3851cd30>"
      ]
     },
     "metadata": {},
     "output_type": "display_data"
    }
   ],
   "source": [
    "numpy.random.seed(1) # setting random seed to get the same results each time.\n",
    "k_range = range(5,20,5)   # This process could take a very long time ...\n",
    "scores = []\n",
    "for k in k_range:\n",
    "    print k            # to figure out where this process is ... \n",
    "    goodLdaModel = ldamodel.LdaModel(corpus=corpus, id2word=dictionary, num_topics=k, passes=20)  #for better results, use a higher passes (e.g., 50)\n",
    "    goodcm = CoherenceModel(model=goodLdaModel, corpus=corpus, dictionary=dictionary, coherence='u_mass')\n",
    "    scores.append(goodcm.get_coherence())\n",
    "    \n",
    "plt.figure(figsize=(14, 8))\n",
    "plt.plot(k_range, scores)"
   ]
  },
  {
   "cell_type": "code",
   "execution_count": 18,
   "metadata": {
    "collapsed": true
   },
   "outputs": [],
   "source": [
    "numpy.random.seed(1) # setting random seed to get the same results each time. For a large dataset, high passes (e.g., 50, 75) would be desirable.\n",
    "model = ldamodel.LdaModel(corpus, id2word=dictionary, num_topics=6, passes=50)"
   ]
  },
  {
   "cell_type": "code",
   "execution_count": 19,
   "metadata": {},
   "outputs": [
    {
     "data": {
      "text/plain": [
       "[(0,\n",
       "  u'0.045*\"infinitywar\" + 0.035*\"guy\" + 0.026*\"epix\" + 0.009*\"avenger\" + 0.009*\"captainamerica\" + 0.009*\"ironman\" + 0.005*\"spiderman\" + 0.005*\"happy\" + 0.004*\"starlord\" + 0.004*\"marvel\"'),\n",
       " (1,\n",
       "  u'0.084*\"infinitywar\" + 0.026*\"hour\" + 0.009*\"already\" + 0.007*\"avenger\" + 0.007*\"well\" + 0.006*\"marvel\" + 0.006*\"die\" + 0.005*\"ticket\" + 0.005*\"minute\" + 0.005*\"saturday\"'),\n",
       " (2,\n",
       "  u'0.039*\"infinitywar\" + 0.011*\"movie\" + 0.007*\"tonight\" + 0.007*\"spoiler\" + 0.006*\"mcu\" + 0.005*\"review\" + 0.005*\"amazing\" + 0.005*\"que\" + 0.005*\"mind\" + 0.004*\"retweeted\"'),\n",
       " (3,\n",
       "  u'0.093*\"infinitywar\" + 0.032*\"tonight\" + 0.012*\"ready\" + 0.011*\"wait\" + 0.011*\"spoiler\" + 0.010*\"seeing\" + 0.009*\"avenger\" + 0.009*\"thanos\" + 0.007*\"people\" + 0.006*\"anyone\"'),\n",
       " (4,\n",
       "  u'0.116*\"infinitywar\" + 0.042*\"avenger\" + 0.033*\"war\" + 0.033*\"infinity\" + 0.019*\"marvel\" + 0.016*\"watch\" + 0.010*\"movie\" + 0.009*\"thanos\" + 0.009*\"tomorrow\" + 0.008*\"tonight\"'),\n",
       " (5,\n",
       "  u'0.097*\"infinitywar\" + 0.019*\"avenger\" + 0.016*\"movie\" + 0.016*\"tonight\" + 0.015*\"wait\" + 0.014*\"excited\" + 0.010*\"time\" + 0.009*\"ticket\" + 0.008*\"marvel\" + 0.008*\"spoiler\"')]"
      ]
     },
     "execution_count": 19,
     "metadata": {},
     "output_type": "execute_result"
    }
   ],
   "source": [
    "model.show_topics()"
   ]
  },
  {
   "cell_type": "markdown",
   "metadata": {},
   "source": [
    "# Part 2 Sentiment Analysis comparison to 3 Top marvel Movies.\n",
    "# Word cloud and Word Frequency in Infinity War Reviews"
   ]
  },
  {
   "cell_type": "code",
   "execution_count": 78,
   "metadata": {
    "collapsed": true
   },
   "outputs": [],
   "source": [
    "Testdata = []\n",
    "a = \"https://www.rottentomatoes.com/m/black_panther_2018/reviews/?page=\"\n",
    "count =2\n",
    "b = \"&sort=\"\n",
    "for i in range (1,8):\n",
    "    url = '%s%s%s' %(a,count,b)\n",
    "    count = count + 1\n",
    "    data = html.fromstring(requests.get(url).text)\n",
    "    rating = data.xpath(\"//div[2]/div[1]/text()\")\n",
    "    crawleddata = zip(rating)\n",
    "    for row in crawleddata:\n",
    "        Testdata.append(row)\n",
    "        # Collecting Black Panther Reviews"
   ]
  },
  {
   "cell_type": "code",
   "execution_count": 79,
   "metadata": {
    "collapsed": true
   },
   "outputs": [],
   "source": [
    "Testdata = []\n",
    "a = \"https://www.rottentomatoes.com/m/iron_man/reviews/?page=\"\n",
    "count =2\n",
    "b = \"&sort=\"\n",
    "for i in range (1,8):\n",
    "    url = '%s%s%s' %(a,count,b)\n",
    "    count = count + 1\n",
    "    data = html.fromstring(requests.get(url).text)\n",
    "    rating = data.xpath(\"//div[2]/div[1]/text()\")\n",
    "    crawleddata = zip(rating)\n",
    "    for row in crawleddata:\n",
    "        Testdata.append(row)\n",
    "        # Collecting Iron Man Reviews"
   ]
  },
  {
   "cell_type": "code",
   "execution_count": 80,
   "metadata": {
    "collapsed": true
   },
   "outputs": [],
   "source": [
    "Testdata = []\n",
    "a = \"https://www.rottentomatoes.com/m/guardians_of_the_galaxy/reviews/?page=\"\n",
    "count =2\n",
    "b = \"&sort=\"\n",
    "for i in range (1,8):\n",
    "    url = '%s%s%s' %(a,count,b)\n",
    "    count = count + 1\n",
    "    data = html.fromstring(requests.get(url).text)\n",
    "    rating = data.xpath(\"//div[2]/div[1]/text()\")\n",
    "    crawleddata = zip(rating)\n",
    "    for row in crawleddata:\n",
    "        Testdata.append(row)\n",
    "        # Collecting Guardians of the Galay Reviews "
   ]
  },
  {
   "cell_type": "code",
   "execution_count": 81,
   "metadata": {
    "collapsed": true
   },
   "outputs": [],
   "source": [
    "IWdata = []\n",
    "a = \"https://www.rottentomatoes.com/m/avengers_infinity_war/reviews/?page=\"\n",
    "count =2\n",
    "b = \"&sort=\"\n",
    "for i in range (1,10):\n",
    "    url = '%s%s%s' %(a,count,b)\n",
    "    count = count + 1\n",
    "    data = html.fromstring(requests.get(url).text)\n",
    "    rating = data.xpath(\"//div[2]/div[1]/text()\")\n",
    "    crawleddata = zip(rating)\n",
    "    for row in crawleddata:\n",
    "        IWdata.append(row)\n",
    "        # Collecting Infinity War Reviews"
   ]
  },
  {
   "cell_type": "code",
   "execution_count": 82,
   "metadata": {
    "collapsed": true
   },
   "outputs": [],
   "source": [
    "# Used to save the Reviews into a CSV\n",
    "#finaldatas = pd.DataFrame(Testdata) \n",
    "#finaldatas.to_csv(\"data/MarvelReview.csv\", encoding='utf-8')\n",
    "#finaldatas = pd.DataFrame(IWdata) \n",
    "#finaldatas.to_csv(\"data/IWReview.csv\", encoding='utf-8')"
   ]
  },
  {
   "cell_type": "code",
   "execution_count": 84,
   "metadata": {},
   "outputs": [
    {
     "name": "stdout",
     "output_type": "stream",
     "text": [
      "[' \"Guardians of the Galaxy\" relied too much on the audience already knowing the Marvel mythology. Call it, in my opinion, an unacceptable shorthand. ']\n"
     ]
    }
   ],
   "source": [
    "review = [] # housing the reviews of the csv file into review\n",
    "openfile = open('data/MarvelReview.csv', 'rb')\n",
    "r = csv.reader(openfile)\n",
    "for i in r:\n",
    "    review.append(i[0])    \n",
    "openfile.close()\n",
    "\n",
    "print review[:1]"
   ]
  },
  {
   "cell_type": "code",
   "execution_count": 85,
   "metadata": {},
   "outputs": [
    {
     "name": "stdout",
     "output_type": "stream",
     "text": [
      "[' \"Avengers: Infinity War\" is a successful tuneup for a tumultuous, significant chapter in the continuing Marvel Cinematic Universe that will alter the trajectory of the franchise as it enters its second decade.']\n"
     ]
    }
   ],
   "source": [
    "iwreview = [] # housing the reviews of the csv file into iwreview\n",
    "openfile = open('data/IWReview.csv', 'rb')\n",
    "r = csv.reader(openfile)\n",
    "for i in r:\n",
    "    iwreview.append(i[0])    \n",
    "openfile.close()\n",
    "\n",
    "print iwreview[:1]"
   ]
  },
  {
   "cell_type": "code",
   "execution_count": 86,
   "metadata": {},
   "outputs": [
    {
     "name": "stdout",
     "output_type": "stream",
     "text": [
      "0.2 0.2\n",
      "0.136363636364 0.454545454545\n",
      "0.15 0.475\n",
      "-0.1 0.391666666667\n",
      "0.110416666667 0.529166666667\n",
      "0.328125 0.483333333333\n",
      "0.0 0.0\n",
      "0.0 0.0\n",
      "-0.5625 1.0\n",
      "0.466666666667 0.5\n",
      "0.35 0.65\n",
      "0.368181818182 0.727272727273\n",
      "0.26 0.44\n",
      "0.433333333333 0.833333333333\n",
      "-0.0339285714286 0.361607142857\n",
      "0.5 0.85\n",
      "0.160416666667 0.352083333333\n",
      "0.107142857143 0.598214285714\n",
      "0.6 0.9\n",
      "0.566666666667 0.866666666667\n",
      "0.208333333333 0.583333333333\n",
      "0.268269230769 0.497863247863\n",
      "0.416666666667 0.566666666667\n",
      "0.5 0.7\n",
      "0.12 0.551666666667\n",
      "0.516666666667 0.8\n",
      "0.1375 0.2875\n",
      "0.476785714286 0.580357142857\n",
      "0.0 0.4\n",
      "-0.0625 0.625\n",
      "0.2 0.40625\n",
      "0.25 0.2\n",
      "0.305555555556 0.844444444444\n",
      "0.0 0.0\n",
      "0.162121212121 0.586868686869\n",
      "0.0 1.0\n",
      "0.218571428571 0.294285714286\n",
      "0.533333333333 0.65\n",
      "0.433333333333 0.566666666667\n",
      "0.214285714286 0.5\n",
      "0.0 0.0\n",
      "0.207272727273 0.560909090909\n",
      "0.6 1.0\n",
      "0.335714285714 0.742857142857\n",
      "-0.047619047619 0.557142857143\n",
      "0.375 0.5\n",
      "0.222619047619 0.730952380952\n",
      "0.0 0.0\n",
      "0.228571428571 0.292857142857\n",
      "0.3 0.2\n",
      "0.571428571429 0.457142857143\n",
      "0.228571428571 0.278571428571\n",
      "0.468181818182 0.727272727273\n",
      "0.5 0.583333333333\n",
      "0.75 0.4\n",
      "0.733333333333 0.7\n",
      "0.103888888889 0.677777777778\n",
      "0.183333333333 0.35\n",
      "0.125 0.225\n",
      "-0.166666666667 0.625\n",
      "0.194857142857 0.402285714286\n",
      "-0.155555555556 0.288888888889\n",
      "0.104166666667 0.4\n",
      "0.371428571429 0.67619047619\n",
      "0.433333333333 0.796296296296\n",
      "-0.0541666666667 0.3375\n",
      "0.171428571429 0.37619047619\n",
      "-0.0416666666667 0.833333333333\n",
      "0.0 0.2\n",
      "0.25 0.3\n",
      "-0.291666666667 0.541666666667\n",
      "0.25 0.366666666667\n",
      "0.35 0.475\n",
      "0.3875 0.5375\n",
      "0.075 0.5\n",
      "-0.25 0.4875\n",
      "-0.0416666666667 0.494444444444\n",
      "0.55 0.75\n",
      "0.1975 0.49\n",
      "0.0111111111111 0.497222222222\n",
      "0.18 0.47\n",
      "0.09 0.286666666667\n",
      "0.333333333333 1.0\n",
      "0.214285714286 0.428571428571\n",
      "0.4 0.9\n",
      "0.45 0.75\n",
      "0.35 0.8\n",
      "0.35 0.406666666667\n",
      "0.8 1.0\n",
      "0.0375 0.6875\n",
      "0.29375 0.425\n",
      "0.1 0.1\n",
      "-0.4 0.5\n",
      "0.0 0.6375\n",
      "0.85 1.0\n",
      "0.415 0.64\n",
      "0.616666666667 0.733333333333\n",
      "0.183333333333 0.55\n",
      "0.186904761905 0.377380952381\n",
      "0.0 0.0\n",
      "-0.0759259259259 0.253703703704\n",
      "0.34 0.9\n",
      "0.385714285714 0.571428571429\n",
      "0.275 0.6\n",
      "0.0 0.0\n",
      "1.0 0.3\n",
      "-0.0447916666667 0.460416666667\n",
      "0.166666666667 0.620833333333\n",
      "-0.05 0.1\n",
      "0.1625 0.7375\n",
      "0.270606060606 0.370909090909\n",
      "0.5 0.6\n",
      "0.0666666666667 0.491666666667\n",
      "-0.152777777778 0.597222222222\n",
      "0.00625 0.35\n",
      "0.375 0.75\n",
      "0.333333333333 0.6\n",
      "0.414285714286 0.7\n",
      "0.55 0.7\n",
      "0.0 0.5\n",
      "-0.1 0.3\n",
      "0.378787878788 0.418181818182\n",
      "0.633333333333 0.666666666667\n",
      "0.35 0.35\n",
      "0.375 0.6\n",
      "-0.25 0.55\n",
      "-0.113333333333 0.613333333333\n",
      "0.25 0.3\n",
      "0.23 0.566666666667\n",
      "0.6 0.95\n",
      "0.233333333333 0.7\n",
      "0.222222222222 0.555555555556\n",
      "0.177777777778 0.322222222222\n",
      "0.1875 0.4375\n",
      "0.0 0.0\n",
      "0.075 0.325\n",
      "0.233333333333 0.45\n",
      "0.0333333333333 0.275\n",
      "0.35625 0.54375\n",
      "-0.333333333333 0.666666666667\n"
     ]
    }
   ],
   "source": [
    "for row in review:\n",
    "    score = sentiment(row)\n",
    "    print score[0], score[1] \n",
    "# Sentiment analysis with Pattern"
   ]
  },
  {
   "cell_type": "code",
   "execution_count": 87,
   "metadata": {},
   "outputs": [
    {
     "name": "stdout",
     "output_type": "stream",
     "text": [
      "0.28125 0.50625\n",
      "0.316666666667 0.833333333333\n",
      "0.0333333333333 0.1\n",
      "0.375 0.5\n",
      "0.0 0.1\n",
      "0.0 0.0\n",
      "0.05 0.7\n",
      "-0.155555555556 0.288888888889\n",
      "0.425 0.675\n",
      "0.07 0.875\n",
      "0.07 0.323333333333\n",
      "0.5 0.972222222222\n",
      "-0.2 0.2\n",
      "0.175 0.275\n",
      "0.225 0.5\n",
      "0.0 0.0\n",
      "0.0625 0.6\n",
      "-0.005 0.53\n",
      "-0.275 0.55\n",
      "0.0833333333333 0.462962962963\n",
      "-0.2 0.2\n",
      "-0.75 0.75\n",
      "0.5 0.5\n",
      "0.0125 0.525\n",
      "0.175 0.55\n",
      "0.205357142857 0.535714285714\n",
      "0.109523809524 0.538095238095\n",
      "0.0 0.0\n",
      "0.0 0.0\n",
      "-0.244444444444 0.422222222222\n",
      "-0.015873015873 0.534126984127\n",
      "0.116666666667 0.333333333333\n",
      "0.325 0.513888888889\n",
      "0.616666666667 0.708333333333\n",
      "0.0583333333333 0.533333333333\n",
      "0.216666666667 0.383333333333\n",
      "-0.0166666666667 0.45\n",
      "0.2 0.1\n",
      "0.0 0.0\n",
      "0.1425 0.34\n",
      "0.347727272727 0.629924242424\n",
      "0.0428571428571 0.438095238095\n",
      "0.2 0.683333333333\n",
      "0.05 0.3\n",
      "0.166666666667 0.166666666667\n",
      "0.225 0.541666666667\n",
      "0.744444444444 0.627777777778\n",
      "0.2 0.55\n",
      "0.1 0.4\n",
      "0.2875 0.625\n",
      "-0.0142857142857 0.614285714286\n",
      "-0.169642857143 0.419642857143\n",
      "0.3125 0.4875\n",
      "0.514285714286 0.607142857143\n",
      "0.266666666667 0.633333333333\n",
      "0.266666666667 0.486666666667\n",
      "0.227777777778 0.438888888889\n",
      "0.39375 0.5875\n",
      "0.16 0.193333333333\n",
      "-0.125 0.833333333333\n",
      "0.156666666667 0.493333333333\n",
      "0.0 0.0\n",
      "0.458333333333 0.9\n",
      "0.0 0.125\n",
      "0.5 0.175\n",
      "0.333333333333 0.433333333333\n",
      "0.0 0.25\n",
      "0.173469387755 0.385204081633\n",
      "0.116666666667 0.45\n",
      "0.05 0.05\n",
      "0.1 0.4\n",
      "0.169047619048 0.921428571429\n",
      "0.0625 0.354166666667\n",
      "-0.1 0.6\n",
      "-0.144444444444 0.45\n",
      "0.0 0.3\n",
      "0.2625 0.483333333333\n",
      "0.0625 0.5\n",
      "0.233333333333 0.65\n",
      "0.4 0.45\n",
      "0.208333333333 0.416666666667\n",
      "-0.325 0.575\n",
      "0.13 0.46\n",
      "-0.0555555555556 0.766666666667\n",
      "0.305194805195 0.507792207792\n",
      "0.1 0.1\n",
      "-0.0666666666667 0.783333333333\n",
      "0.0125 0.593055555556\n",
      "0.0777777777778 0.605555555556\n",
      "0.325 0.525\n",
      "0.0346153846154 0.680769230769\n",
      "-0.167619047619 0.822857142857\n",
      "0.00677083333333 0.586458333333\n",
      "0.0645833333333 0.310416666667\n",
      "0.264285714286 0.367857142857\n",
      "0.285714285714 0.535714285714\n",
      "0.175 0.65\n",
      "0.366666666667 0.433333333333\n",
      "0.25 0.555555555556\n",
      "0.4 0.466666666667\n",
      "-0.0833333333333 0.583333333333\n",
      "0.391666666667 0.608333333333\n",
      "-0.196875 0.540625\n",
      "-0.0111111111111 0.758333333333\n",
      "-0.225 0.55625\n",
      "0.1 0.0666666666667\n",
      "0.675 0.825\n",
      "0.354166666667 0.4875\n",
      "0.225 0.4\n",
      "-0.307142857143 0.419047619048\n",
      "0.0 0.0\n",
      "0.371428571429 0.609523809524\n",
      "0.0 0.0\n",
      "0.125 0.5\n",
      "0.147142857143 0.49380952381\n",
      "-0.0518518518519 0.52962962963\n",
      "0.227777777778 0.516666666667\n",
      "0.214285714286 0.360544217687\n",
      "0.466666666667 0.566666666667\n",
      "0.44 0.64\n",
      "-0.075 0.5\n",
      "0.116666666667 0.333333333333\n",
      "-0.123333333333 0.55\n",
      "0.4 0.6\n",
      "0.175 0.65\n",
      "0.145 0.42\n",
      "0.12 0.7\n",
      "0.133333333333 0.533333333333\n",
      "0.357142857143 0.535714285714\n",
      "-0.0351851851852 0.543518518519\n",
      "0.0 0.0\n",
      "0.108333333333 0.7375\n",
      "0.0166666666667 0.633333333333\n",
      "0.1 0.383333333333\n",
      "-0.0714285714286 0.375\n",
      "0.407142857143 0.55\n",
      "0.05 0.336111111111\n",
      "-0.329166666667 0.559722222222\n",
      "0.3875 0.4875\n",
      "0.0 0.0\n",
      "0.0 1.0\n",
      "0.85 1.0\n",
      "0.0533333333333 0.243888888889\n",
      "0.140625 0.31875\n",
      "-0.00833333333333 0.520833333333\n",
      "0.283333333333 0.47962962963\n",
      "0.0583333333333 0.175\n",
      "0.2 0.4875\n",
      "0.0 1.0\n",
      "0.227777777778 0.461111111111\n",
      "0.2625 0.69880952381\n",
      "0.106666666667 0.583333333333\n",
      "0.25 0.5\n",
      "0.144444444444 0.744444444444\n",
      "0.0708333333333 0.733333333333\n",
      "-0.133333333333 0.633333333333\n",
      "0.233333333333 0.3\n",
      "0.25 0.5\n",
      "0.365 0.41\n",
      "0.2 0.2\n",
      "-0.2 0.9\n",
      "0.505681818182 0.477272727273\n",
      "0.175 0.275\n",
      "-0.184375 0.5125\n",
      "0.3 0.466666666667\n",
      "0.283333333333 0.491666666667\n",
      "0.546428571429 0.583928571429\n",
      "0.426666666667 0.353333333333\n",
      "0.444444444444 0.644444444444\n",
      "0.2 0.1\n",
      "0.0 0.1\n",
      "-0.166666666667 0.4\n",
      "0.05 0.5\n",
      "0.2 0.52\n",
      "0.4 0.65\n",
      "0.334090909091 0.6\n",
      "0.5 1.0\n",
      "0.275 0.6\n",
      "0.0119047619048 0.395238095238\n",
      "0.0 0.0\n"
     ]
    }
   ],
   "source": [
    "for row in iwreview:\n",
    "    score = sentiment(row)\n",
    "    print score[0], score[1] "
   ]
  },
  {
   "cell_type": "code",
   "execution_count": 88,
   "metadata": {
    "collapsed": true
   },
   "outputs": [],
   "source": [
    "positive_reviewsp = []\n",
    "negative_reviewsp = []\n",
    "neutral_reviewsp = []\n",
    "\n",
    "for row in review:\n",
    "    t = row\n",
    "    score = sentiment(t)\n",
    "    if score[0] > 0:\n",
    "        positive_reviewsp.append(t)\n",
    "    elif score[0] == 0:\n",
    "        neutral_reviewsp.append(t)\n",
    "    else:\n",
    "        negative_reviewsp.append(t)"
   ]
  },
  {
   "cell_type": "code",
   "execution_count": 89,
   "metadata": {},
   "outputs": [
    {
     "name": "stdout",
     "output_type": "stream",
     "text": [
      "106 Positive Marvel Movies\n",
      "21 Negative Marvel Movies\n",
      "13 Neutral Marvel Movies\n"
     ]
    }
   ],
   "source": [
    "print len(positive_reviewsp),\"Positive\",\"Marvel Movies\"\n",
    "print len(negative_reviewsp),\"Negative\", \"Marvel Movies\"\n",
    "print len(neutral_reviewsp),\"Neutral\",\"Marvel Movies\""
   ]
  },
  {
   "cell_type": "code",
   "execution_count": 90,
   "metadata": {
    "collapsed": true
   },
   "outputs": [],
   "source": [
    "positive_reviewsiw = []\n",
    "negative_reviewsiw = []\n",
    "neutral_reviewsiw= []\n",
    "\n",
    "for row in iwreview:\n",
    "    t = row\n",
    "    score = sentiment(t)\n",
    "    if score[0] > 0:\n",
    "        positive_reviewsiw.append(t)\n",
    "    elif score[0] == 0:\n",
    "        neutral_reviewsiw.append(t)\n",
    "    else:\n",
    "        negative_reviewsiw.append(t)\n",
    "# putting the sentiments into review categories"
   ]
  },
  {
   "cell_type": "code",
   "execution_count": 91,
   "metadata": {},
   "outputs": [
    {
     "name": "stdout",
     "output_type": "stream",
     "text": [
      "128 Positive Infinity War\n",
      "34 Negative Infinity War\n",
      "18 Neutral Infinity War\n"
     ]
    }
   ],
   "source": [
    "print len(positive_reviewsiw),\"Positive\" ,\"Infinity War\"\n",
    "print len(negative_reviewsiw),\"Negative\",\"Infinity War\"\n",
    "print len(neutral_reviewsiw),\"Neutral\",\"Infinity War\""
   ]
  },
  {
   "cell_type": "markdown",
   "metadata": {},
   "source": [
    "## As you can see the reviews seem to be about the same sentiment. This to me that Infinity War is a good movie like the previously selected movies but not a cinematic masterpiece that some claim it to be. "
   ]
  },
  {
   "cell_type": "markdown",
   "metadata": {
    "collapsed": true
   },
   "source": [
    "# Word frequency and Word Cloud "
   ]
  },
  {
   "cell_type": "code",
   "execution_count": 93,
   "metadata": {},
   "outputs": [
    {
     "data": {
      "text/plain": [
       "[('2018', 180),\n",
       " ('april', 172),\n",
       " ('war', 70),\n",
       " ('infinity', 67),\n",
       " ('27', 53),\n",
       " ('26', 48),\n",
       " ('movie', 47),\n",
       " ('25', 44),\n",
       " ('marvel', 43),\n",
       " (u'second', 31),\n",
       " (u'avenger', 30),\n",
       " (u'film', 28),\n",
       " ('2', 25),\n",
       " ('one', 22),\n",
       " ('full', 21),\n",
       " ('critic', 20),\n",
       " ('top', 20),\n",
       " ('review', 18),\n",
       " ('action', 17),\n",
       " ('much', 17),\n",
       " ('character', 17),\n",
       " (u'ha', 17),\n",
       " ('spanish', 16),\n",
       " ('universe', 15),\n",
       " ('30', 13),\n",
       " ('many', 12),\n",
       " (u'fan', 11),\n",
       " ('even', 11),\n",
       " ('story', 11),\n",
       " ('cinematic', 11),\n",
       " ('epic', 11),\n",
       " (u'time', 11),\n",
       " ('end', 10),\n",
       " ('may', 10),\n",
       " ('feel', 10),\n",
       " ('part', 10),\n",
       " ('yet', 10),\n",
       " ('long', 10),\n",
       " ('minutes16', 9),\n",
       " ('28', 9),\n",
       " ('superhero', 9),\n",
       " ('minutes30', 9),\n",
       " ('4', 9),\n",
       " ('know', 9),\n",
       " ('minutes24', 9),\n",
       " ('two', 8),\n",
       " ('1', 8),\n",
       " ('good', 8),\n",
       " ('blockbuster', 8),\n",
       " ('mcu', 8)]"
      ]
     },
     "execution_count": 93,
     "metadata": {},
     "output_type": "execute_result"
    }
   ],
   "source": [
    "# what if you have additional stopwords to be removed\n",
    "tokens = str(IWdata)\n",
    "#lowecases\n",
    "tokens = tokens.lower()\n",
    "# Remove useless numbers and alphanumerical words\n",
    "tokens = re.sub(\"[^a-zA-Z0-9]\", \" \", tokens)\n",
    "#tokenization or word split\n",
    "tokens = word_tokenize(tokens)\n",
    "#get stemming words or lemmas\n",
    "wordnet_lemmatizer = WordNetLemmatizer()\n",
    "tokens = (wordnet_lemmatizer.lemmatize(word) for word in tokens)\n",
    "#additional stopwrods\n",
    "more_stopwords = set(('report', 'permalink', 'ago','hour','year','abuse','yesterday','also','thing','get','like','see'))\n",
    "extra_stoplist = set(stopwords.words('english')) | more_stopwords\n",
    "tokens = (word for word in tokens if word not in extra_stoplist)\n",
    "\n",
    "fdist = nltk.FreqDist(tokens)\n",
    "fdist.most_common(50)"
   ]
  },
  {
   "cell_type": "code",
   "execution_count": 94,
   "metadata": {},
   "outputs": [
    {
     "data": {
      "image/png": "[encoded data removed]",
      "text/plain": [
       "<matplotlib.figure.Figure at 0x37846f60>"
      ]
     },
     "metadata": {},
     "output_type": "display_data"
    }
   ],
   "source": [
    "plt.figure(figsize=(12,6))\n",
    "fdist.plot(50)"
   ]
  },
  {
   "cell_type": "markdown",
   "metadata": {},
   "source": [
    "## The top used words are the date for the review and Infinity War. "
   ]
  },
  {
   "cell_type": "code",
   "execution_count": 95,
   "metadata": {},
   "outputs": [
    {
     "data": {
      "text/plain": [
       "[(('infinity', 'war'), 66),\n",
       " ((u'avenger', 'infinity'), 25),\n",
       " (('critic', 'april'), 18),\n",
       " (('top', 'critic'), 18),\n",
       " ((u'second', u'second'), 18),\n",
       " (('april', 'infinity'), 17),\n",
       " (('review', 'spanish'), 16),\n",
       " (('full', 'review'), 16),\n",
       " (('april', u'avenger'), 14),\n",
       " (('spanish', 'april'), 12),\n",
       " (('marvel', u'movie'), 11),\n",
       " ((u'second', 'april'), 8),\n",
       " (('cinematic', 'universe'), 7),\n",
       " (('marvel', 'cinematic'), 6),\n",
       " (('comic', 'book'), 6),\n",
       " (('april', 'movie'), 6),\n",
       " (('april', 'film'), 5),\n",
       " ((u'movie', 'april'), 5),\n",
       " (('april', 'much'), 5),\n",
       " (('april', 'marvel'), 4),\n",
       " (('marvel', u'studio'), 3),\n",
       " (('superhero', 'movie'), 3),\n",
       " (('april', 'thanos'), 3),\n",
       " (('many', u'character'), 3),\n",
       " (('april', 'lot'), 3),\n",
       " (('war', 'pretty'), 3),\n",
       " (('first', 'time'), 2),\n",
       " (('anyone', 'care'), 2),\n",
       " (('april', 'know'), 2),\n",
       " (('war', 'one'), 2),\n",
       " (('april', 'massive'), 2),\n",
       " (('relentless', 'action'), 2),\n",
       " (('april', u'fan'), 2),\n",
       " (('spectacle', 'april'), 2),\n",
       " (('april', 'epic'), 2),\n",
       " (('character', u'moment'), 2),\n",
       " (('war', u'feel'), 2),\n",
       " (('marvel', u'fan'), 2),\n",
       " (('best', 'movie'), 2),\n",
       " (('anthony', 'russo'), 2),\n",
       " (('may', u'avenger'), 2),\n",
       " (('beginning', 'end'), 2),\n",
       " (('april', 'blockbuster'), 2),\n",
       " (('russo', u'brother'), 2),\n",
       " (('season', 'finale'), 2),\n",
       " (('marvel', 'comic'), 2),\n",
       " (('next', 'summer'), 2),\n",
       " (('kevin', 'feige'), 2),\n",
       " (('last', 'decade'), 2),\n",
       " (('become', 'emotionally'), 2)]"
      ]
     },
     "execution_count": 95,
     "metadata": {},
     "output_type": "execute_result"
    }
   ],
   "source": [
    "# what if you have additional stopwords to be removed\n",
    "tokens = str(IWdata)\n",
    "#lowecases\n",
    "tokens = tokens.lower()\n",
    "# Remove useless numbers and alphanumerical words\n",
    "tokens = re.sub(\"[^a-zA-Z0-9]\", \" \", tokens)\n",
    "#tokenization or word split\n",
    "tokens = word_tokenize(tokens)\n",
    "#get stemming words or lemmas\n",
    "wordnet_lemmatizer = WordNetLemmatizer()\n",
    "tokens = (wordnet_lemmatizer.lemmatize(word) for word in tokens)\n",
    "#additional stopwrods\n",
    "tokens = (word for word in tokens if word not in extra_stoplist)\n",
    "# Filter non-alphanumeric characters from tokens\n",
    "tokens = (word for word in tokens if word.isalpha())\n",
    "#remove short words\n",
    "tokens = (word for word in tokens if len(word) >= 3)\n",
    "#Create your bigrams ... a bigram are a pair of two tokens\n",
    "bigrams = nltk.bigrams(tokens)\n",
    "#compute frequency distribution for all the bigrams in the text\n",
    "fdist_bi = nltk.FreqDist(bigrams)\n",
    "fdist_bi.most_common(50)"
   ]
  },
  {
   "cell_type": "code",
   "execution_count": 96,
   "metadata": {},
   "outputs": [
    {
     "data": {
      "image/png": "[encoded data removed]",
      "text/plain": [
       "<matplotlib.figure.Figure at 0x37c7b5f8>"
      ]
     },
     "metadata": {},
     "output_type": "display_data"
    }
   ],
   "source": [
    "plt.figure(figsize=(12,6))\n",
    "fdist_bi.plot(50)"
   ]
  },
  {
   "cell_type": "markdown",
   "metadata": {},
   "source": [
    "## Top used Bigrams are of course The tile Infinity War and Avengers Infinity. "
   ]
  },
  {
   "cell_type": "code",
   "execution_count": 97,
   "metadata": {},
   "outputs": [
    {
     "data": {
      "text/plain": [
       "<matplotlib.figure.Figure at 0x13d35c88>"
      ]
     },
     "execution_count": 97,
     "metadata": {},
     "output_type": "execute_result"
    },
    {
     "data": {
      "image/png": "[encoded data removed]",
      "text/plain": [
       "<matplotlib.figure.Figure at 0x37cea358>"
      ]
     },
     "metadata": {},
     "output_type": "display_data"
    },
    {
     "data": {
      "text/plain": [
       "<matplotlib.figure.Figure at 0x13d35c88>"
      ]
     },
     "metadata": {},
     "output_type": "display_data"
    }
   ],
   "source": [
    "from os import path\n",
    "text = open(path.join('data/IWReview.csv')).read()\n",
    "wordcloud = WordCloud().generate(text)\n",
    "plt.imshow(wordcloud)\n",
    "plt.axis(\"off\")\n",
    "wordcloud = WordCloud(max_font_size=40, relative_scaling=.5).generate(text)\n",
    "plt.figure()"
   ]
  },
  {
   "cell_type": "markdown",
   "metadata": {
    "collapsed": true
   },
   "source": [
    "## All in all Infinity war seems to be a great addition to the Marvel Cinematic Univers. But the 10 year build up seems to not really show with the sentiment analysis. However, this movie is a success generating over 1 billion dollars and that is still growing. In conclusion I think that this movie was good but perhaps another good standalone superhero movie could have had the same review scores and audience reception. Just recently the Marvel movie Black Panther was released and is the highest scored Marvel movie on Rotten Tomatoes. If Disney and Marvel are looking for good audience reception infinity war does that, but it isnt the greatest movie that Marvel has ever released. "
   ]
  },
  {
   "cell_type": "code",
   "execution_count": null,
   "metadata": {
    "collapsed": true
   },
   "outputs": [],
   "source": []
  }
 ],
 "metadata": {
  "kernelspec": {
   "display_name": "Python 2",
   "language": "python",
   "name": "python2"
  },
  "language_info": {
   "codemirror_mode": {
    "name": "ipython",
    "version": 2
   },
   "file_extension": ".py",
   "mimetype": "text/x-python",
   "name": "python",
   "nbconvert_exporter": "python",
   "pygments_lexer": "ipython2",
   "version": "2.7.13"
  }
 },
 "nbformat": 4,
 "nbformat_minor": 1
}
